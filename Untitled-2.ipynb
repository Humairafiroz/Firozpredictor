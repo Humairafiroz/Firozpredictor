{
 "cells": [
  {
   "cell_type": "code",
   "execution_count": null,
   "metadata": {},
   "outputs": [],
   "source": [
    "1 import numpy as np\n",
    "2 import pandas as pd\n",
    "3 from sklearn.preprocessing import StandardScaler\n",
    "4 from sklearn.model_selection import train_test_split\n",
    "5 from sklearn import svm\n",
    "6 from sklearn.metrics import accuracy_score"
   ]
  },
  {
   "cell_type": "code",
   "execution_count": null,
   "metadata": {},
   "outputs": [],
   "source": [
    "1 # loading the diabetes dataset to a pandas DataFrame\n",
    "2 diabetes_dataset = pd.read_csv('/content/diabetes.csv') "
   ]
  },
  {
   "cell_type": "code",
   "execution_count": null,
   "metadata": {},
   "outputs": [],
   "source": [
    "1 pd.read_csv?"
   ]
  },
  {
   "cell_type": "code",
   "execution_count": null,
   "metadata": {},
   "outputs": [],
   "source": [
    "1 # printing the first 5 rows of the dataset\n",
    "2 diabetes_dataset.head()\n",
    "\n",
    "  Pregnancies\tGlucose\tBloodPressure\tSkinThickness\tInsulin\tBMI\t DiabetesPedigreeFunction\tAge\tOutcome\n",
    "0\t6\t        148     \t72\t          35\t          0\t    33.6\t0.627               \t50\t1\n",
    "1\t1       \t85       \t66         \t  29           \t  0  \t26.6\t0.351\t                31\t0\n",
    "2\t8\t        183      \t64\t          0               0     23.3    0.672               \t32\t1\n",
    "3\t1       \t89       \t66         \t  23\t          94\t28.1\t0.167               \t21\t0\n",
    "4\t0        \t137     \t40\t          35\t          168\t43.1\t2.288                \t33\t1"
   ]
  },
  {
   "cell_type": "code",
   "execution_count": null,
   "metadata": {},
   "outputs": [],
   "source": [
    "1 # number of rows and Columns in this dataset\n",
    "2 diabetes_dataset.shape\n",
    "\n",
    "(768, 9)"
   ]
  },
  {
   "cell_type": "code",
   "execution_count": null,
   "metadata": {},
   "outputs": [],
   "source": [
    "1 # getting the statistical measures of the data\n",
    "2 diabetes_dataset.describe()\n",
    "\n",
    "      Pregnancies\tGlucose \tBloodPressure\tSkinThickness\tInsulin \tBMI     \tDiabetesPedigreeFunction\tAge\tOutcome\n",
    "count\t768.000000\t768.000000\t768.000000  \t768.000000  \t768.000000\t768.000000 \t768.000000          \t768.000000\t768.000000\n",
    "mean\t3.845052\t120.894531\t69.105469   \t20.536458   \t79.799479\t31.992578\t0.471876            \t33.240885\t0.348958\n",
    "std  \t3.369578\t31.972618\t19.355807   \t15.952218   \t115.244002\t7.884160\t0.331329            \t11.760232\t0.476951\n",
    "min \t0.000000\t0.000000\t0.000000    \t0.000000    \t0.000000\t0.000000\t0.078000             \t21.000000\t0.000000\n",
    "25% \t1.000000\t99.000000\t62.000000   \t0.000000    \t0.000000\t27.300000\t0.243750            \t24.000000\t0.000000\n",
    "50% \t3.000000\t117.000000\t72.000000   \t23.000000   \t30.500000\t32.000000\t0.372500            \t29.000000\t0.000000\n",
    "75% \t6.000000\t140.250000\t80.000000   \t32.000000   \t127.250000\t36.600000\t0.626250            \t41.000000\t1.000000\n",
    "max \t17.000000\t199.000000\t122.000000  \t99.000000   \t846.000000\t67.100000\t2.420000            \t81.000000\t1.000000"
   ]
  },
  {
   "cell_type": "code",
   "execution_count": null,
   "metadata": {},
   "outputs": [],
   "source": [
    "1 diabetes_dataset['Outcome'].value_counts()\n",
    "\n",
    "0    500\n",
    "1    268\n",
    "Name: Outcome, dtype: int64"
   ]
  },
  {
   "cell_type": "code",
   "execution_count": null,
   "metadata": {},
   "outputs": [],
   "source": [
    "1 diabetes_dataset.groupby('Outcome').mean()\n",
    "\n",
    "         Pregnancies\tGlucose\tBloodPressure\tSkinThickness\tInsulin\tBMI\tDiabetesPedigreeFunction\tAge\n",
    "Outcome\t\t\t\t\t\t\t\t\n",
    "0       \t3.298000\t109.980000\t68.184000\t19.664000\t68.792000\t30.304200\t0.429734    \t31.190000\n",
    "1       \t4.865672\t141.257463\t70.824627\t22.164179\t100.335821\t35.142537\t0.550500    \t37.067164"
   ]
  },
  {
   "cell_type": "code",
   "execution_count": null,
   "metadata": {},
   "outputs": [],
   "source": [
    "1 # separating the data and labels\n",
    "2 X = diabetes_dataset.drop(columns = 'Outcome', axis=1)\n",
    "3 Y = diabetes_dataset['Outcome']"
   ]
  },
  {
   "cell_type": "code",
   "execution_count": null,
   "metadata": {},
   "outputs": [],
   "source": [
    "1 print(X)\n",
    "\n",
    "Pregnancies  Glucose  BloodPressure       ...   BMI  DiabetesPedigreeFunction  Age\n",
    "0              6      148             72  ...  33.6                     0.627   50\n",
    "1              1       85             66  ...  26.6                     0.351   31\n",
    "2              8      183             64  ...  23.3                     0.672   32\n",
    "3              1       89             66  ...  28.1                     0.167   21\n",
    "4              0      137             40  ...  43.1                     2.288   33\n",
    "..           ...      ...            ...  ...   ...                       ...  ...\n",
    "763           10      101             76  ...  32.9                     0.171   63\n",
    "764            2      122             70  ...  36.8                     0.340   27\n",
    "765            5      121             72  ...  26.2                     0.245   30\n",
    "766            1      126             60  ...  30.1                     0.349   47\n",
    "767            1       93             70  ...  30.4                     0.315   23\n"
   ]
  },
  {
   "cell_type": "code",
   "execution_count": null,
   "metadata": {},
   "outputs": [],
   "source": [
    "1 print(Y)\n",
    "\n",
    "0      1\n",
    "1      0\n",
    "2      1\n",
    "3      0\n",
    "4      1\n",
    "      ..\n",
    "763    0\n",
    "764    0\n",
    "765    0\n",
    "766    1\n",
    "767    0\n",
    "Name: Outcome, Length: 768, dtype: int64"
   ]
  },
  {
   "cell_type": "code",
   "execution_count": null,
   "metadata": {},
   "outputs": [],
   "source": [
    "1 scaler = StandardScaler()"
   ]
  },
  {
   "cell_type": "code",
   "execution_count": null,
   "metadata": {},
   "outputs": [],
   "source": [
    "1 scaler.fit(X)\n",
    "\n",
    "StandardScaler(copy=True, with_mean=True, with_std=True)"
   ]
  },
  {
   "cell_type": "code",
   "execution_count": null,
   "metadata": {},
   "outputs": [],
   "source": [
    "1 standardized_data = scaler.transform(X)"
   ]
  },
  {
   "cell_type": "code",
   "execution_count": null,
   "metadata": {},
   "outputs": [],
   "source": [
    "1 print(standardized_data)\n",
    "\n",
    "[[ 0.63994726  0.84832379  0.14964075 ...  0.20401277  0.46849198\n",
    "   1.4259954 ]\n",
    " [-0.84488505 -1.12339636 -0.16054575 ... -0.68442195 -0.36506078\n",
    "  -0.19067191]\n",
    " [ 1.23388019  1.94372388 -0.26394125 ... -1.10325546  0.60439732\n",
    "  -0.10558415]\n",
    " ...\n",
    " [ 0.3429808   0.00330087  0.14964075 ... -0.73518964 -0.68519336\n",
    "  -0.27575966]\n",
    " [-0.84488505  0.1597866  -0.47073225 ... -0.24020459 -0.37110101\n",
    "   1.17073215]\n",
    " [-0.84488505 -0.8730192   0.04624525 ... -0.20212881 -0.47378505\n",
    "  -0.87137393]]"
   ]
  },
  {
   "cell_type": "code",
   "execution_count": null,
   "metadata": {},
   "outputs": [],
   "source": [
    "1 X = standardized_data\n",
    "2 Y = diabetes_dataset['Outcome']"
   ]
  },
  {
   "cell_type": "code",
   "execution_count": null,
   "metadata": {},
   "outputs": [],
   "source": [
    "1 print(X)\n",
    "2 print(Y)\n",
    "\n",
    "[[ 0.63994726  0.84832379  0.14964075 ...  0.20401277  0.46849198\n",
    "   1.4259954 ]\n",
    " [-0.84488505 -1.12339636 -0.16054575 ... -0.68442195 -0.36506078\n",
    "  -0.19067191]\n",
    " [ 1.23388019  1.94372388 -0.26394125 ... -1.10325546  0.60439732\n",
    "  -0.10558415]\n",
    " ...\n",
    " [ 0.3429808   0.00330087  0.14964075 ... -0.73518964 -0.68519336\n",
    "  -0.27575966]\n",
    " [-0.84488505  0.1597866  -0.47073225 ... -0.24020459 -0.37110101\n",
    "   1.17073215]\n",
    " [-0.84488505 -0.8730192   0.04624525 ... -0.20212881 -0.47378505\n",
    "  -0.87137393]]\n",
    "0      1\n",
    "1      0\n",
    "2      1\n",
    "3      0\n",
    "4      1\n",
    "      ..\n",
    "763    0\n",
    "764    0\n",
    "765    0\n",
    "766    1\n",
    "767    0\n",
    "Name: Outcome, Length: 768, dtype: int64"
   ]
  },
  {
   "cell_type": "code",
   "execution_count": null,
   "metadata": {},
   "outputs": [],
   "source": [
    "1 X_train, X_test, Y_train, Y_test = train_test_split(X,Y, test_size = 0.2, stratify=Y, random_state=2)"
   ]
  },
  {
   "cell_type": "code",
   "execution_count": null,
   "metadata": {},
   "outputs": [],
   "source": [
    "1 print(X.shape, X_train.shape, X_test.shape)\n",
    "\n",
    "(768, 8) (614, 8) (154, 8)"
   ]
  },
  {
   "cell_type": "code",
   "execution_count": null,
   "metadata": {},
   "outputs": [],
   "source": [
    "1 classifier = svm.SVC(kernel='linear')"
   ]
  },
  {
   "cell_type": "code",
   "execution_count": null,
   "metadata": {},
   "outputs": [],
   "source": [
    "1 #training the support vector Machine Classifier\n",
    "2 classifier.fit(X_train, Y_train)\n",
    "\n",
    "SVC(C=1.0, break_ties=False, cache_size=200, class_weight=None, coef0=0.0,\n",
    "    decision_function_shape='ovr', degree=3, gamma='scale', kernel='linear',\n",
    "    max_iter=-1, probability=False, random_state=None, shrinking=True,\n",
    "    tol=0.001, verbose=False)"
   ]
  },
  {
   "cell_type": "code",
   "execution_count": null,
   "metadata": {},
   "outputs": [],
   "source": [
    "1 # accuracy score on the training data\n",
    "2 X_train_prediction = classifier.predict(X_train)\n",
    "3 training_data_accuracy = accuracy_score(X_train_prediction, Y_train)"
   ]
  },
  {
   "cell_type": "code",
   "execution_count": null,
   "metadata": {},
   "outputs": [],
   "source": [
    "1 print('Accuracy score of the training data : ', training_data_accuracy)\n",
    "\n",
    "Accuracy score of the training data :  0.7866449511400652"
   ]
  },
  {
   "cell_type": "code",
   "execution_count": null,
   "metadata": {},
   "outputs": [],
   "source": [
    "1 # accuracy score on the test data\n",
    "2 X_test_prediction = classifier.predict(X_test)\n",
    "3 test_data_accuracy = accuracy_score(X_test_prediction, Y_test)"
   ]
  },
  {
   "cell_type": "code",
   "execution_count": null,
   "metadata": {},
   "outputs": [],
   "source": [
    "1 print('Accuracy score of the test data : ', test_data_accuracy)\n",
    "\n",
    "Accuracy score of the test data :  0.7727272727272727"
   ]
  },
  {
   "cell_type": "code",
   "execution_count": null,
   "metadata": {},
   "outputs": [],
   "source": [
    "1 input_data = (5,166,72,19,175,25.8,0.587,51)\n",
    "2\n",
    "3 # changing the input_data to numpy array\n",
    "4 input_data_as_numpy_array = np.asarray(input_data)\n",
    "5\n",
    "6 # reshape the array as we are predicting for one instance\n",
    "7 input_data_reshaped = input_data_as_numpy_array.reshape(1,-1)\n",
    "8\n",
    "9 # standardize the input data\n",
    "10 std_data = scaler.transform(input_data_reshaped)\n",
    "11 print(std_data)\n",
    "12\n",
    "13 prediction = classifier.predict(std_data)\n",
    "14 print(prediction)\n",
    "15\n",
    "16 if (prediction[0] == 0):\n",
    "17  print('The person is not diabetic')\n",
    "18 else:\n",
    "19  print('The person is diabetic')\n",
    "\n",
    "[[ 0.3429808   1.41167241  0.14964075 -0.09637905  0.82661621 -0.78595734\n",
    "   0.34768723  1.51108316]]\n",
    "[1]\n",
    "The person is diabetic"
   ]
  }
 ],
 "metadata": {
  "language_info": {
   "name": "plaintext"
  },
  "orig_nbformat": 4
 },
 "nbformat": 4,
 "nbformat_minor": 2
}
